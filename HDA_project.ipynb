{
  "cells": [
    {
      "cell_type": "markdown",
      "metadata": {
        "id": "view-in-github",
        "colab_type": "text"
      },
      "source": [
        "<a href=\"https://colab.research.google.com/github/gianmaria99/Free-parking-slots-detection/blob/main/HDA_project.ipynb\" target=\"_parent\"><img src=\"https://colab.research.google.com/assets/colab-badge.svg\" alt=\"Open In Colab\"/></a>"
      ]
    },
    {
      "cell_type": "markdown",
      "metadata": {
        "id": "7m4w2KWjrtsm"
      },
      "source": [
        "# **PROVE CON DATASET SBAGLIATO** \n",
        "\n",
        "da non eseguire"
      ]
    },
    {
      "cell_type": "code",
      "execution_count": null,
      "metadata": {
        "id": "Ekqx9kewO2Fe"
      },
      "outputs": [],
      "source": [
        "# import sys \n",
        "# sys.path.insert(0,'/content/drive/MyDrive/HDA_project')\n",
        "# #from plots_utility import plt_doppler_antennas"
      ]
    },
    {
      "cell_type": "markdown",
      "metadata": {
        "id": "KMu16Oy4MIky"
      },
      "source": [
        "**STEP 1**\n",
        "\n",
        "python CSI_phase_sanitization_signal_preprocessing.py <'directory of the input data'> <'process all the files in subdirectories (1) or not (0)'> <'name of the file to process (only if 0 in the previous field)'> <'number of spatial streams'> <'number of cores'> <'index where to start the processing for each stream'> \n",
        "\n",
        "e.g., python CSI_phase_sanitization_signal_preprocessing.py ../input_files/S1a/ 1 - 1 4 0"
      ]
    },
    {
      "cell_type": "markdown",
      "metadata": {
        "id": "HUGZkMaokqJZ"
      },
      "source": [
        "done offline"
      ]
    },
    {
      "cell_type": "markdown",
      "metadata": {
        "id": "uS78fnIXMU82"
      },
      "source": [
        "**STEP 2**\n",
        "\n",
        "python CSI_phase_sanitization_H_estimation.py <'directory of the input data'> <'process all the files in subdirectories (1) or not (0)'> <'name of the file to process (only if 0 in the previous field)'> <'number of spatial streams'> <'number of cores'> <'index where to start the processing for each stream'> <'index where to stop the processing for each stream'> \n",
        "\n",
        "e.g., python CSI_phase_sanitization_H_estimation.py ../input_files/S1a/ 0 S1a_E 1 4 0 -1"
      ]
    },
    {
      "cell_type": "markdown",
      "metadata": {
        "id": "f-5o3M9qktv5"
      },
      "source": [
        "done offline"
      ]
    },
    {
      "cell_type": "markdown",
      "metadata": {
        "id": "fYmN8e5fMcTL"
      },
      "source": [
        "**STEP 3**\n",
        "\n",
        "python CSI_phase_sanitization_signal_reconstruction.py <'directory of the processed data'> <'directory to save the reconstructed data'> <'number of spatial streams'> <'number of cores'> <'index where to start the processing for each stream'> <'index where to stop the processing for each stream'> \n",
        "\n",
        "e.g., python CSI_phase_sanitization_signal_reconstruction.py ./phase_processing/ ./processed_phase/ 1 4 0 -1"
      ]
    },
    {
      "cell_type": "code",
      "execution_count": null,
      "metadata": {
        "id": "isKV9z2FKTuy"
      },
      "outputs": [],
      "source": [
        "#! python /content/drive/MyDrive/HDA_project/CSI_phase_sanitization_signal_reconstruction.py /content/drive/MyDrive/HDA_project/phase_processing/ /content/drive/MyDrive/HDA_project/processed_phase/ 1 4 0 -1"
      ]
    },
    {
      "cell_type": "code",
      "execution_count": null,
      "metadata": {
        "id": "uThulel8M5mM"
      },
      "outputs": [],
      "source": [
        "# Tc = 6e-3\n",
        "# fc = 5e9\n",
        "# v_light = 3e8\n",
        "# num_symbols = 31\n",
        "# delta_v = round(v_light / (Tc * fc * num_symbols), 3)\n",
        "\n",
        "\n",
        "# def plt_phase(phase_raw, phase_proc, name_plot):\n",
        "#     fig = plt.figure(constrained_layout=True)\n",
        "#     fig.set_size_inches(7, 3)\n",
        "#     widths = [1, 0.3, 1, 0.3]\n",
        "#     heights = [1]\n",
        "#     gs = fig.add_gridspec(ncols=4, nrows=1, width_ratios=widths,  height_ratios=heights)\n",
        "#     step_x = 5\n",
        "#     ax = []\n",
        "\n",
        "#     data_list = [phase_raw, phase_proc]\n",
        "#     titles = [r'raw phase', r'sanitized phase']\n",
        "\n",
        "#     for p_i in range(0, 4, 2):\n",
        "#         ax1 = fig.add_subplot(gs[(0, p_i)])\n",
        "#         a_i = int(p_i/2)\n",
        "#         plt1 = ax1.pcolormesh(data_list[a_i], cmap='viridis', linewidth=0, rasterized=True)\n",
        "#         plt1.set_edgecolor('face')\n",
        "#         ax1.set_ylabel(r'sub-channel')\n",
        "#         ax1.set_xlabel(r'time [s]')\n",
        "\n",
        "#         ticks_y = np.asarray([0, 30, 60, 90, 122, 154, 184, 214, 244])\n",
        "#         ax1.set_yticks(ticks_y + 0.5)\n",
        "#         ax1.set_yticklabels(ticks_y - 122)\n",
        "#         ticks_x = np.arange(0, data_list[a_i].shape[1] + 1, int(data_list[a_i].shape[1]/step_x))\n",
        "#         ax1.set_xticks(ticks_x)\n",
        "#         ax1.set_xticklabels(np.round(ticks_x * 6e-3, 2))\n",
        "\n",
        "#         title_p = titles[a_i]\n",
        "#         ax1.set_title(title_p)\n",
        "#         ax.append(ax1)\n",
        "\n",
        "#         axins = inset_axes(ax1,\n",
        "#                            width=\"8%\",  # width = 5% of parent_bbox width\n",
        "#                            height=\"100%\",  # height : 50%\n",
        "#                            loc='lower left',\n",
        "#                            bbox_to_anchor=(1.1, 0., 1, 1),\n",
        "#                            bbox_transform=ax1.transAxes,\n",
        "#                            borderpad=0,\n",
        "#                            )\n",
        "#         cbar1 = fig.colorbar(plt1, cax=axins)\n",
        "#         cbar1.ax.set_ylabel('power [dB]')\n",
        "\n",
        "#     for axi in ax:\n",
        "#         axi.label_outer()\n",
        "#     plt.savefig(name_plot, bbox_inches='tight')\n",
        "#     plt.show()\n",
        "\n",
        "# def plt_doppler_antennas(doppler_spectrum_list, sliding_lenght, delta_v, name_plot):\n",
        "#     #if doppler_spectrum_list:\n",
        "#         fig = plt.figure()\n",
        "#         gs = gridspec.GridSpec(4, 1, figure=fig)\n",
        "#         step = 15\n",
        "#         length_v = mt.floor(doppler_spectrum_list[0].shape[1] / 2)\n",
        "#         factor_v = step * (mt.floor(length_v / step))\n",
        "#         ticks_y = np.arange(length_v - factor_v, length_v + factor_v + 1, step)\n",
        "#         ticks_x = np.arange(0, doppler_spectrum_list[0].shape[0], int(doppler_spectrum_list[0].shape[0]/20))\n",
        "#         ax = []\n",
        "\n",
        "#         for p_i in range(len(doppler_spectrum_list)):\n",
        "#             ax1 = fig.add_subplot(gs[(p_i, 0)])\n",
        "#             plt1 = ax1.pcolormesh(doppler_spectrum_list[p_i].T, cmap='viridis', linewidth=0, rasterized=True)\n",
        "#             plt1.set_edgecolor('face')\n",
        "#             cbar1 = fig.colorbar(plt1)\n",
        "#             cbar1.ax.set_ylabel('power [dB]', rotation=270, labelpad=14)\n",
        "#             ax1.set_ylabel(r'velocity [m/s]')\n",
        "#             ax1.set_xlabel(r'time [s]')\n",
        "#             ax1.set_yticks(ticks_y + 0.5)\n",
        "#             ax1.set_yticklabels(np.round((ticks_y - length_v) * delta_v, 2))\n",
        "#             ax1.set_xticks(ticks_x)\n",
        "#             ax1.set_xticklabels(np.round(ticks_x * sliding_lenght * 6e-3, 2))\n",
        "#             ax.append(ax1)\n",
        "\n",
        "#         for axi in ax:\n",
        "#             axi.label_outer()\n",
        "#         fig.set_size_inches(20, 10)\n",
        "#         plt.savefig(name_plot, bbox_inches='tight')\n",
        "#         plt.show()\n",
        "\n",
        "# def load_data(csi_file_t):\n",
        "#     csi_file = csi_file_t\n",
        "#     if isinstance(csi_file_t, (bytes, bytearray)):\n",
        "#         csi_file = csi_file.decode()\n",
        "#     with open(csi_file, \"rb\") as fp:  # Unpickling\n",
        "#         matrix_csi = pickle.load(fp)\n",
        "#     matrix_csi = tf.transpose(matrix_csi, perm=[2, 1, 0])\n",
        "#     matrix_csi = tf.cast(matrix_csi, tf.float32)\n",
        "#     return matrix_csi"
      ]
    },
    {
      "cell_type": "code",
      "execution_count": null,
      "metadata": {
        "id": "ZSuEeuKGNWIX"
      },
      "outputs": [],
      "source": [
        "# !pip install latex"
      ]
    },
    {
      "cell_type": "code",
      "execution_count": null,
      "metadata": {
        "id": "tNm_dXW6Mthg"
      },
      "outputs": [],
      "source": [
        "# import os\n",
        "# import scipy.io as sio\n",
        "# import pickle\n",
        "# import tensorflow as tf\n",
        "\n",
        "# import numpy as np\n",
        "# import matplotlib.pyplot as plt\n",
        "# import matplotlib.gridspec as gridspec\n",
        "# from matplotlib import rcParams\n",
        "# import math as mt\n",
        "# from tensorflow.python.ops.numpy_ops import np_config\n",
        "# np_config.enable_numpy_behavior()\n",
        "# from mpl_toolkits.axes_grid1.inset_locator import inset_axes\n",
        "\n",
        "\n",
        "# raw_dir = \"/content/drive/MyDrive/HDA_project/phase_processing\"\n",
        "# all_files = os.listdir(raw_dir)\n",
        "# mat_files = []\n",
        "# names = []\n",
        "# for i in range(len(all_files)):\n",
        "#   if all_files[i].startswith('signal_AR1a_E'):\n",
        "#       names.append(all_files[i])\n",
        "# csi_matrices_raw = []\n",
        "# for name in names:\n",
        "#   name_file = '/content/drive/MyDrive/HDA_project/phase_processing/' + name \n",
        "#   csi_matrices_raw.append(load_data(name_file))\n",
        "# print(csi_matrices_raw[0].shape)\n",
        "\n",
        "# processed_dir = \"/content/drive/MyDrive/HDA_project/processed_phase/AR1/\"\n",
        "# names = []\n",
        "# all_files = os.listdir(processed_dir)\n",
        "# for i in range(len(all_files)):\n",
        "#   if all_files[i].startswith('AR1a_E'):\n",
        "#     names.append(all_files[i][:-4])\n",
        "# csi_matrices_processed = []\n",
        "# for name in names:\n",
        "#   print(name)\n",
        "#   name_file = processed_dir + name + '.mat'\n",
        "#   mdic = sio.loadmat(name_file)\n",
        "#   csi_matrices_processed.append(mdic['csi_matrix_processed'])\n",
        "# print(csi_matrices_processed[0].shape)\n",
        "\n",
        "\n",
        "# plt_phase(tf.transpose(csi_matrices_raw[0][1,800:1300,:], perm=[1,0]),tf.transpose(csi_matrices_processed[1][800:1300,:,1], [1,0]),'prova')"
      ]
    },
    {
      "cell_type": "markdown",
      "metadata": {
        "id": "Ah_ECw_Skxpc"
      },
      "source": [
        "**STEP 4**\n",
        "\n",
        "compute doppler\n",
        "\n",
        "python CSI_doppler_computation.py <'directory of the reconstructed data'> <'sub-directories of data'> <'directory to save the Doppler data'> <'starting index to process data'> <'end index to process data (samples from the end)'> <'number of packets in a sample'> <'number of packets for sliding operations'> <'noise level'> <--bandwidth 'bandwidth'>\n",
        "\n",
        "e.g., python CSI_doppler_computation.py ./processed_phase/ S1a ./doppler_traces/ 800 800 31 1 -1.2"
      ]
    },
    {
      "cell_type": "code",
      "execution_count": null,
      "metadata": {
        "id": "6NXLQp7okwPq"
      },
      "outputs": [],
      "source": [
        "# ! python /content/drive/MyDrive/HDA_project/CSI_doppler_computation.py /content/drive/MyDrive/HDA_project/processed_phase/ AR1 /content/drive/MyDrive/HDA_project/doppler_traces/ 800 800 31 1 -1.2 "
      ]
    },
    {
      "cell_type": "code",
      "execution_count": null,
      "metadata": {
        "id": "FOKPMv9X4NZ6"
      },
      "outputs": [],
      "source": [
        "# dir = \"/content/drive/MyDrive/HDA_project/doppler_traces/AR1/\"\n",
        "# all_files = os.listdir(dir)\n",
        "# mat_files = []\n",
        "# names = []\n",
        "# for i in range(len(all_files)):\n",
        "#   if all_files[i].startswith('AR1a_C'):\n",
        "#       names.append(all_files[i])\n",
        "# doppler_list = []\n",
        "# for name in names:\n",
        "#   name_file = dir + name \n",
        "#   print(name_file)\n",
        "#   with open(name_file, \"rb\") as fp:  # Unpickling\n",
        "#         temp = pickle.load(fp)\n",
        "#   doppler_list.append(temp)\n",
        "# print(\"SITTING DOWN/STANDING UP\")\n",
        "# plt_doppler_antennas(doppler_list, 1, delta_v, 'prova')"
      ]
    },
    {
      "cell_type": "code",
      "execution_count": null,
      "metadata": {
        "id": "2U80h0Yb9Pe5"
      },
      "outputs": [],
      "source": [
        "# dir = \"/content/drive/MyDrive/HDA_project/doppler_traces/AR1/\"\n",
        "# all_files = os.listdir(dir)\n",
        "# mat_files = []\n",
        "# names = []\n",
        "# for i in range(len(all_files)):\n",
        "#   if all_files[i].startswith('AR1a_W'):\n",
        "#       names.append(all_files[i])\n",
        "# doppler_list = []\n",
        "# for name in names:\n",
        "#   name_file = dir + name \n",
        "#   print(name_file)\n",
        "#   with open(name_file, \"rb\") as fp:  # Unpickling\n",
        "#         temp = pickle.load(fp)\n",
        "#   doppler_list.append(temp)\n",
        "# print(\"WALKING\")\n",
        "# plt_doppler_antennas(doppler_list, 1, delta_v, 'prova')"
      ]
    },
    {
      "cell_type": "code",
      "execution_count": null,
      "metadata": {
        "id": "3DLee1Bl-nHB"
      },
      "outputs": [],
      "source": [
        "# dir = \"/content/drive/MyDrive/HDA_project/doppler_traces/AR1/\"\n",
        "# all_files = os.listdir(dir)\n",
        "# mat_files = []\n",
        "# names = []\n",
        "# for i in range(len(all_files)):\n",
        "#   if all_files[i].startswith('AR1a_R'):\n",
        "#       names.append(all_files[i])\n",
        "# doppler_list = []\n",
        "# for name in names:\n",
        "#   name_file = dir + name \n",
        "#   print(name_file)\n",
        "#   with open(name_file, \"rb\") as fp:  # Unpickling\n",
        "#         temp = pickle.load(fp)\n",
        "#   doppler_list.append(temp)\n",
        "# print(\"RUNNING\")\n",
        "# plt_doppler_antennas(doppler_list, 1, delta_v, 'prova')"
      ]
    },
    {
      "cell_type": "code",
      "execution_count": null,
      "metadata": {
        "id": "Er7F8rEH-3A6"
      },
      "outputs": [],
      "source": [
        "# dir = \"/content/drive/MyDrive/HDA_project/doppler_traces/AR1/\"\n",
        "# all_files = os.listdir(dir)\n",
        "# mat_files = []\n",
        "# names = []\n",
        "# for i in range(len(all_files)):\n",
        "#   if all_files[i].startswith('AR1a_J1'):\n",
        "#       names.append(all_files[i])\n",
        "# doppler_list = []\n",
        "# for name in names:\n",
        "#   name_file = dir + name \n",
        "#   print(name_file)\n",
        "#   with open(name_file, \"rb\") as fp:  # Unpickling\n",
        "#         temp = pickle.load(fp)\n",
        "#   doppler_list.append(temp)\n",
        "# print(\"JUMP1\")\n",
        "# plt_doppler_antennas(doppler_list, 1, delta_v, 'prova')"
      ]
    },
    {
      "cell_type": "code",
      "execution_count": null,
      "metadata": {
        "id": "5u6-gxriIRJ3"
      },
      "outputs": [],
      "source": [
        "# dir = \"/content/drive/MyDrive/HDA_project/doppler_traces/AR1/\"\n",
        "# all_files = os.listdir(dir)\n",
        "# mat_files = []\n",
        "# names = []\n",
        "# for i in range(len(all_files)):\n",
        "#   if all_files[i].startswith('AR1a_E'):\n",
        "#       names.append(all_files[i])\n",
        "# doppler_list = []\n",
        "# for name in names:\n",
        "#   name_file = dir + name \n",
        "#   print(name_file)\n",
        "#   with open(name_file, \"rb\") as fp:  # Unpickling\n",
        "#         temp = pickle.load(fp)\n",
        "#   doppler_list.append(temp)\n",
        "# print(\"EMPTY\")\n",
        "# plt_doppler_antennas(doppler_list, 1, delta_v, 'prova')"
      ]
    },
    {
      "cell_type": "markdown",
      "metadata": {
        "id": "rVX_YVHFnVx9"
      },
      "source": [
        "**STEP 5**\n",
        "\n",
        "create dataset\n",
        "\n",
        "python CSI_doppler_create_dataset_train.py <'directory of the Doppler data'> <'sub-directories, comma-separated'> <'number of packets in a sample'> <'number of packets for sliding operations'> <'number of samples per window'> <'number of samples for window sliding'> <'labels of the activities to be considered'> <'number of streams * number of antennas'>\n",
        "\n",
        "e.g., python CSI_doppler_create_dataset_train.py ./doppler_traces/ S1a 31 1 340 30 E,L,W,R,J,C 4 \n",
        "\n",
        "for test\n",
        "\n",
        "e.g., python CSI_doppler_create_dataset_test.py ./doppler_traces/ S7a 31 1 340 30 E,L,W,R,J,C 4"
      ]
    },
    {
      "cell_type": "code",
      "execution_count": null,
      "metadata": {
        "id": "_3v_ug4jnyUB"
      },
      "outputs": [],
      "source": [
        "# ! python /content/drive/MyDrive/HDA_project/CSI_doppler_create_dataset_train.py /content/drive/MyDrive/HDA_project/doppler_traces/ AR1 31 1 340 30 C 4"
      ]
    },
    {
      "cell_type": "code",
      "execution_count": null,
      "metadata": {
        "id": "NDvnG72L-UZC"
      },
      "outputs": [],
      "source": [
        "#OLD CRAP\n",
        "# def preprocessing(dir_name, people=5):\n",
        "#   \"\"\"\n",
        "#       performs basic preprocessing of the csi_buff\n",
        "#       Phase sanitization to remove the phase shift according to the path\n",
        "#       returns: None\n",
        "#       saves complete preprocessed signal in .txt format\n",
        "#       in directory ./phase_processing/\n",
        "\n",
        "#       :param dir_name: path to the directory containing .mat files \n",
        "#       :param people: number of people on which to perform the identification, default 4 \n",
        "#   \"\"\"\n",
        "#   # Generate the list of the .mat files present in the folder $dir_name \n",
        "#   names = {}\n",
        "#   all_files = os.listdir(dir_name)\n",
        "#   for f in all_files:\n",
        "#       if (f.startswith('PI') and f.endswith('.mat')):\n",
        "#         names[f[:-4]] = f\n",
        "#   names_key = list(names.keys())\n",
        "#   names_key.sort()\n",
        "#   # for each file\n",
        "#   for name in names_key[1:people+1]:\n",
        "#       # Get the raw .mat file\n",
        "#       csi, label = load_mat_file(name, os.path.join(dir_name, names[name]))\n",
        "\n",
        "#       csi_buff = np.fft.fftshift(csi, axes=1)\n",
        "\n",
        "#       delete_idxs = np.argwhere(np.sum(csi_buff, axis=1) == 0)[:, 0]\n",
        "#       csi_buff = np.delete(csi_buff, delete_idxs, axis=0)\n",
        "\n",
        "#       delete_idxs = np.asarray([0, 1, 2, 3, 4, 5, 127, 128, 129, 251, 252, 253, 254, 255], dtype=int)\n",
        "\n",
        "#       n_ss = 1\n",
        "#       n_core = 4\n",
        "#       n_tot = n_ss * n_core\n",
        "\n",
        "#       start = 1000\n",
        "#       end = int(np.floor(csi_buff.shape[0]/n_tot))\n",
        "#       signal_complete = np.zeros((csi_buff.shape[1] - delete_idxs.shape[0], end-start, n_tot), dtype=complex)\n",
        "\n",
        "#       for stream in range(0, n_tot):\n",
        "#           signal_stream = csi_buff[stream:end*n_tot + 1:n_tot, :][start:end, :]\n",
        "#           signal_stream[:, 64:] = - signal_stream[:, 64:]\n",
        "\n",
        "#           signal_stream = np.delete(signal_stream, delete_idxs, axis=1)\n",
        "#           mean_signal = np.mean(np.abs(signal_stream), axis=1, keepdims=True)\n",
        "#           H_m = signal_stream/mean_signal\n",
        "\n",
        "#           signal_complete[:, :, stream] = H_m.T\n",
        "      \n",
        "#       name_file = './phase_processing/signal_' + name + '.txt'\n",
        "#       with open(name_file, \"wb\") as fp:  # Pickling\n",
        "#           pickle.dump(signal_complete, fp)\n",
        "\n",
        "# def create_dataset(dir_name):\n",
        "#   \"\"\"\n",
        "#       divides dataset in train, validation and test\n",
        "#       returns: None\n",
        "#       saves divided datasets in .txt format \n",
        "#       in directory ./phase_processing/dataset_txt\n",
        "      \n",
        "#       :param dir_name: path to the directory containing .txt files (preprocessing output)\n",
        "#   \"\"\"\n",
        "#   sliding = 1 # Number of packets for sliding operations\n",
        "#   num_packets = 31 # Number of packets in a sample\n",
        "#   num_antennas = 4 # Number of antenna * number of spatial streams\n",
        "#   input_network = (242, 666, 1) # (sample_length, feature_length, channels)\n",
        "#   batch_size = 32\n",
        "#   preprocessed_csi = []\n",
        "#   lenghts = []\n",
        "#   csi_train = []\n",
        "#   csi_val = []\n",
        "#   csi_test = []\n",
        "#   length_train = []\n",
        "#   length_val = []\n",
        "#   length_test = []\n",
        "#   train_labels = []\n",
        "#   val_labels = []\n",
        "#   test_labels = []\n",
        "\n",
        "#   preprocessed_csi, labels, subdir = load_txt(dir_name)\n",
        "#   for x in preprocessed_csi:\n",
        "#     lenghts.append(x.shape[1])\n",
        "  \n",
        "#   dir_name = dir_name + 'datasets_txt/'\n",
        "#   os.mkdir(dir_name)\n",
        "#   lengths = np.asarray(lenghts)\n",
        "\n",
        "#   people = []\n",
        "#   for i,p in enumerate(labels):\n",
        "#     print(p)\n",
        "#     people.append(p) \n",
        "#     labels[i] = i\n",
        "  \n",
        "#   for i in labels:\n",
        "#       ll = lenghts[i]\n",
        "#       train_len = int(np.floor(ll*0.6))\n",
        "#       length_train.append(train_len)\n",
        "#       csi_train.append(preprocessed_csi[i][:,:train_len,:])\n",
        "\n",
        "#       start_val = train_len + mt.ceil(num_packets/sliding)\n",
        "#       val_len = int(np.floor(ll*0.2))\n",
        "#       length_val.append(val_len)\n",
        "#       csi_val.append(preprocessed_csi[i][:,start_val:start_val+val_len,:])\n",
        "\n",
        "#       start_test = start_val + val_len + mt.ceil(num_packets/sliding)\n",
        "#       length_test.append(ll-val_len-train_len-2*mt.ceil(num_packets/sliding))\n",
        "#       csi_test.append(preprocessed_csi[i][:,start_test:,:])\n",
        "\n",
        "#   list_sets_name = ['train', 'val', 'test']\n",
        "#   list_sets = [csi_train, csi_val, csi_test]\n",
        "#   list_sets_lengths = [length_train, length_val, length_test]\n",
        "#   # list_data = []\n",
        "#   # list_labels = []\n",
        "#   list_windows = []\n",
        "\n",
        "#   window_length = 400 # Number of samples per window\n",
        "#   stride_length = 50  # Number of samples to stride\n",
        "  \n",
        "#   for set_name, set_, set_length in zip(list_sets_name, list_sets, list_sets_lengths):\n",
        "#       list_windows.append(create_windows_delimiters(set_, labels, window_length, stride_length))\n",
        "#       # csi_matrices_set, labels_set = create_windows_antennas(set_, labels, window_length,\n",
        "#       #                                                                   stride_length, remove_mean=False)\n",
        "#       # num_windows = np.floor((np.asarray(set_length) - window_length) / stride_length + 1)\n",
        "#       # if not len(csi_matrices_set) == np.sum(num_windows):\n",
        "#       #     print('ERROR - shapes mismatch ' + str(len(csi_matrices_set)) + \" \" + str(np.sum(num_windows))) \n",
        "#       # list_data.append(csi_matrices_set)\n",
        "#       # list_labels.append(labels_set)\n",
        "\n",
        "#       # names_set = []\n",
        "#       # suffix = '.txt'\n",
        "#       # os.mkdir(dir_name + set_name + '_antennas_' + subdir + '/')\n",
        "#       # print(set_name + ' dataset:')\n",
        "#       # for ii in trange(len(csi_matrices_set)):\n",
        "#       #     name_file = dir_name + set_name + '_antennas_' + subdir + '/' + \\\n",
        "#       #                 str(ii) + suffix\n",
        "#       #     names_set.append(name_file)\n",
        "#       #     with open(name_file, \"wb\") as fp:  # Pickling\n",
        "#       #         pickle.dump(csi_matrices_set[ii], fp)\n",
        "\n",
        "#       # name_labels = dir_name + '/labels_' + set_name + '_antennas_' + subdir + suffix\n",
        "#       # with open(name_labels, \"wb\") as fp:  # Pickling\n",
        "#       #     pickle.dump(labels_set, fp)\n",
        "#       # name_f = dir_name + '/files_' + set_name + '_antennas_' + subdir + suffix\n",
        "#       # with open(name_f, \"wb\") as fp:  # Pickling\n",
        "#       #     pickle.dump(names_set, fp)\n",
        "#       # name_f = dir_name + '/num_windows_' + set_name + '_antennas_' + subdir + suffix\n",
        "#       # with open(name_f, \"wb\") as fp:  # Pickling\n",
        "#       #     pickle.dump(num_windows, fp)\n",
        "\n",
        "  \n",
        "#   name_base = 'csi_net'\n",
        "#   name_cache = name_base + '_' + 'cache_train'\n",
        "#   # dataset_csi_train = create_dataset_single(list_data[0], list_labels[0],\n",
        "#   #                                             batch_size,\n",
        "#   #                                             shuffle=True, cache_file=name_cache)\n",
        "#   #csi, windows, labels, batch_size, shuffle, cache_file,\n",
        "#   print(list_sets[0].shape, list_windows[0].shape, len(labels))\n",
        "#   dataset_csi_train = create_dataset_s(list_sets[0], list_windows[0], labels,\n",
        "#                                      batch_size, shuffle=True, cache_file=name_cache)\n",
        "\n",
        "#   name_cache_val = name_base + '_cache_val'\n",
        "#   # dataset_csi_val = create_dataset_single(list_data[1], list_labels[1],\n",
        "#   #                                         batch_size,\n",
        "#   #                                         shuffle=False, cache_file=name_cache_val)\n",
        "\n",
        "#   name_cache_test = name_base + '_cache_test'\n",
        "#   # dataset_csi_test = create_dataset_single(list_data[2], list_labels[2],\n",
        "#   #                                           batch_size,\n",
        "#   #                                           shuffle=False, cache_file=name_cache_test)\n",
        "#   # info = {'num_samples_train': len(list_data[0]), 'num_samples_val': len(list_data[1]), \n",
        "#   #         'num_samples_test': len(list_data[2]), 'labels_train_selected_expanded': list_labels[0], \n",
        "#   #         'labels_val_selected_expanded': list_labels[1], 'labels_test_selected_expanded': list_labels[2],\n",
        "#   #         'labels_considered':np.array(labels)}\n",
        "#   return dataset_csi_train, dataset_csi_val, dataset_csi_test, info\n",
        "\n",
        "# def load_dataset(dir_name, subdirs, people_string):\n",
        "#   \"\"\"\n",
        "#       load dataset from its compressed version\n",
        "#       returns: train, validation, test datasets\n",
        "      \n",
        "#       :param dir_name: path to the directory containing .txt files (create_dataset output)\n",
        "#       :param subdirs: subdirs of the original dataset, comma-separated ex. \"PI1,PI2\"\n",
        "#       :param people_string: people to be included in the dataset, index from 0 to 10 comma-separeted\n",
        "#   \"\"\"\n",
        "#   feature_length = 666\n",
        "#   sample_length = 242\n",
        "#   channels = 1\n",
        "#   batch_size = 32\n",
        "#   num_tot = 4\n",
        "#   bandwidth = 80\n",
        "#   sub_band = 1\n",
        "#   people = [] # selected people, indexed from 0 to 10\n",
        "\n",
        "#   csi_act = \"\"\n",
        "#   for p in people_string.split(','):\n",
        "#     csi_act = csi_act + p \n",
        "#     people.append(int(p))\n",
        "\n",
        "#   people = np.asarray(people)\n",
        "#   gpus = tf.config.experimental.list_physical_devices('GPU')\n",
        "#   print(gpus)\n",
        "\n",
        "#   name_base = \"net\"\n",
        "#   if os.path.exists(name_base + '_' + str(csi_act) + '_cache_train.data-00000-of-00001'):\n",
        "#       os.remove(name_base + '_' + str(csi_act) + '_cache_train.data-00000-of-00001')\n",
        "#       os.remove(name_base + '_' + str(csi_act) + '_cache_train.index')\n",
        "#   if os.path.exists(name_base + '_' + str(csi_act) + '_cache_val.data-00000-of-00001'):\n",
        "#       os.remove(name_base + '_' + str(csi_act) + '_cache_val.data-00000-of-00001')\n",
        "#       os.remove(name_base + '_' + str(csi_act) + '_cache_val.index')\n",
        "#   if os.path.exists(name_base + '_' + str(csi_act) + '_cache_train_test.data-00000-of-00001'):\n",
        "#       os.remove(name_base + '_' + str(csi_act) + '_cache_train_test.data-00000-of-00001')\n",
        "#       os.remove(name_base + '_' + str(csi_act) + '_cache_train_test.index')\n",
        "#   if os.path.exists(name_base + '_' + str(csi_act) + '_cache_test.data-00000-of-00001'):\n",
        "#       os.remove(name_base + '_' + str(csi_act) + '_cache_test.data-00000-of-00001')\n",
        "#       os.remove(name_base + '_' + str(csi_act) + '_cache_test.index')\n",
        "  \n",
        "#   subdirs_training = subdirs  \n",
        "#   labels_train = []\n",
        "#   all_files_train = []\n",
        "#   labels_val = []\n",
        "#   all_files_val = []\n",
        "#   labels_test = []\n",
        "#   all_files_test = []\n",
        "#   num_antennas = num_tot\n",
        "#   input_shape = (num_antennas, sample_length, feature_length, channels)\n",
        "#   input_network = (sample_length, feature_length, channels)\n",
        "#   output_shape = people.shape[0]\n",
        "#   labels_considered = np.arange(output_shape)\n",
        "#   people = people[labels_considered]\n",
        "\n",
        "#   suffix = '.txt'\n",
        "\n",
        "#   for sdir in subdirs_training.split(','):\n",
        "#       exp_save_dir = dir_name + '/'\n",
        "#       dir_train = dir_name + '/train_antennas_' + sdir + '/'\n",
        "#       name_labels = dir_name + '/labels_train_antennas_' + sdir + suffix\n",
        "#       with open(name_labels, \"rb\") as fp:  # Unpickling\n",
        "#           labels_train.extend(pickle.load(fp))\n",
        "#       name_f = dir_name + '/files_train_antennas_' + sdir + suffix\n",
        "#       with open(name_f, \"rb\") as fp:  # Unpickling\n",
        "#           all_files_train.extend(pickle.load(fp))\n",
        "\n",
        "#       dir_val = dir_name + '/val_antennas_' + sdir + '/'\n",
        "#       name_labels = dir_name + '/labels_val_antennas_' + sdir + suffix\n",
        "#       with open(name_labels, \"rb\") as fp:  # Unpickling\n",
        "#           labels_val.extend(pickle.load(fp))\n",
        "#       name_f = dir_name + '/files_val_antennas_' + sdir + suffix\n",
        "#       with open(name_f, \"rb\") as fp:  # Unpickling\n",
        "#           all_files_val.extend(pickle.load(fp))\n",
        "\n",
        "#       dir_test = dir_name + '/test_antennas_' + sdir + '/'\n",
        "#       name_labels = dir_name + '/labels_test_antennas_' + sdir + suffix\n",
        "#       with open(name_labels, \"rb\") as fp:  # Unpickling\n",
        "#           labels_test.extend(pickle.load(fp))\n",
        "#       name_f = dir_name + '/files_test_antennas_' + sdir + suffix\n",
        "#       with open(name_f, \"rb\") as fp:  # Unpickling\n",
        "#           all_files_test.extend(pickle.load(fp))\n",
        "\n",
        "#   file_train_selected = [all_files_train[idx] for idx in range(len(labels_train)) if labels_train[idx] in\n",
        "#                           people]\n",
        "#   labels_train_selected = [labels_train[idx] for idx in range(len(labels_train)) if labels_train[idx] in\n",
        "#                             people]\n",
        "#   file_train_selected_expanded, labels_train_selected_expanded, stream_ant_train = expand_antennas(file_train_selected, labels_train_selected, num_antennas)\n",
        "#   name_cache = name_base + '_' + str(csi_act) + '_cache_train'\n",
        "#   dataset_csi_train = create_dataset_single(file_train_selected_expanded, labels_train_selected_expanded,\n",
        "#                                               stream_ant_train, input_network, batch_size,\n",
        "#                                               shuffle=True, cache_file=name_cache)\n",
        "  \n",
        "#   file_val_selected = [all_files_val[idx] for idx in range(len(labels_val)) if labels_val[idx] in\n",
        "#                          people]\n",
        "#   labels_val_selected = [labels_val[idx] for idx in range(len(labels_val)) if labels_val[idx] in\n",
        "#                           people]\n",
        "\n",
        "#   file_val_selected_expanded, labels_val_selected_expanded, stream_ant_val = \\\n",
        "#       expand_antennas(file_val_selected, labels_val_selected, num_antennas)\n",
        "\n",
        "#   name_cache_val = name_base + '_' + str(csi_act) + '_cache_val'\n",
        "#   dataset_csi_val = create_dataset_single(file_val_selected_expanded, labels_val_selected_expanded,\n",
        "#                                           stream_ant_val, input_network, batch_size,\n",
        "#                                           shuffle=False, cache_file=name_cache_val)\n",
        "\n",
        "#   file_test_selected = [all_files_test[idx] for idx in range(len(labels_test)) if labels_test[idx] in\n",
        "#                         people]\n",
        "#   labels_test_selected = [labels_test[idx] for idx in range(len(labels_test)) if labels_test[idx] in\n",
        "#                           people]\n",
        "\n",
        "#   file_test_selected_expanded, labels_test_selected_expanded, stream_ant_test = \\\n",
        "#       expand_antennas(file_test_selected, labels_test_selected, num_antennas)\n",
        "\n",
        "#   name_cache_test = name_base + '_' + str(csi_act) + '_cache_test'\n",
        "#   dataset_csi_test = create_dataset_single(file_test_selected_expanded, labels_test_selected_expanded,\n",
        "#                                             stream_ant_test, input_network, batch_size,\n",
        "#                                             shuffle=False, cache_file=name_cache_test)\n",
        "#   info = {'num_samples_train': len(file_train_selected_expanded), 'num_samples_val': len(file_val_selected_expanded), \n",
        "#           'num_samples_test': len(file_test_selected_expanded), 'labels_train_selected_expanded': labels_train_selected_expanded, \n",
        "#           'labels_val_selected_expanded': labels_val_selected_expanded, 'labels_test_selected_expanded': labels_test_selected_expanded,\n",
        "#           'labels_considered':labels_considered}\n",
        "#   return dataset_csi_train, dataset_csi_val, dataset_csi_test, info"
      ]
    },
    {
      "cell_type": "markdown",
      "metadata": {
        "id": "yQHj878ixAhj"
      },
      "source": [
        "# **DEPENDENCIES**"
      ]
    },
    {
      "cell_type": "code",
      "execution_count": 1,
      "metadata": {
        "colab": {
          "base_uri": "https://localhost:8080/"
        },
        "id": "8OqEl9Nrzf82",
        "outputId": "6a23f7f5-ab15-42e7-b73a-abb133c00a5f"
      },
      "outputs": [
        {
          "output_type": "stream",
          "name": "stdout",
          "text": [
            "Mounted at /content/drive\n"
          ]
        }
      ],
      "source": [
        "from google.colab import drive\n",
        "drive.mount('/content/drive')"
      ]
    },
    {
      "cell_type": "code",
      "execution_count": 2,
      "metadata": {
        "id": "jRYYSmFxigox"
      },
      "outputs": [],
      "source": [
        "import scipy.io as sio\n",
        "import os\n",
        "import numpy as np\n",
        "import math as mt\n",
        "import pickle\n",
        "import tensorflow as tf\n",
        "import gc\n",
        "import shutil\n",
        "from matplotlib import pyplot as plt\n",
        "import seaborn as sns\n",
        "import pandas as pd\n",
        "from tqdm import trange\n",
        "import psutil\n",
        "import pickle\n",
        "\n",
        "def load_mat_file(name, path_to_file):\n",
        "    label = name[-3:]\n",
        "    mdic = sio.loadmat(path_to_file)\n",
        "    csi = mdic['csi_buff']\n",
        "    del mdic\n",
        "    gc.collect()\n",
        "    return csi, label\n",
        "\n",
        "def load_txt_single(dir_name, file_name):\n",
        "  path = os.path.join(dir_name, file_name)\n",
        "  label = file_name[-7:-4]\n",
        "  subdir = file_name[-11:-8]\n",
        "  with open(path, \"rb\") as fp:\n",
        "    signal_complete = pickle.load(fp)\n",
        "  return signal_complete, label, subdir\n"
      ]
    },
    {
      "cell_type": "code",
      "execution_count": 3,
      "metadata": {
        "id": "MAst0yoBOqyf"
      },
      "outputs": [],
      "source": [
        "# Bunch of constants\n",
        "FEATURE_LENGTH = 400\n",
        "SAMPLE_LENGTH = 242\n",
        "NUM_TOT = 4\n",
        "\n",
        "BATCH_SIZE = 16\n",
        "NUM_PEOPLE = 5\n",
        "\n",
        "STRIDE_LEN = 10\n",
        "\n",
        "INPUT_SHAPE = (SAMPLE_LENGTH, FEATURE_LENGTH, NUM_TOT, )\n",
        "INPUT_NETWORK = (SAMPLE_LENGTH, FEATURE_LENGTH, NUM_TOT)\n",
        "\n",
        "learning_rate = 0.00002\n",
        "patience = 5\n",
        "\n",
        "output_dir = \"/content/drive/MyDrive/HDA_project/output/\"\n",
        "newdir = \"attempt_\"+ (str(len(os.listdir(output_dir))).zfill(3)) + \"/\"\n",
        "output_dir_attempt = output_dir+newdir\n",
        "os.mkdir(output_dir_attempt)"
      ]
    },
    {
      "cell_type": "code",
      "execution_count": 4,
      "metadata": {
        "id": "0_X0mHZWdwFx"
      },
      "outputs": [],
      "source": [
        "# import os\n",
        "# dir = '/content/drive/MyDrive/'\n",
        "# names = os.listdir(dir)\n",
        "# for name in names:\n",
        "#   if (name.endswith('.txt')):\n",
        "#     path = os.path.join('/content/drive/MyDrive/', name)\n",
        "#     os.remove(path)"
      ]
    },
    {
      "cell_type": "markdown",
      "metadata": {
        "id": "8SlJ8LYqxFme"
      },
      "source": [
        "# **PREPROCESSING AND DATASET CREATION**"
      ]
    },
    {
      "cell_type": "code",
      "execution_count": 5,
      "metadata": {
        "id": "8zBuQZI-igo6"
      },
      "outputs": [],
      "source": [
        "def preprocessing(dir_name, n_tot, people):\n",
        "  \"\"\"\n",
        "      performs basic preprocessing of the csi_buff\n",
        "      Phase sanitization to remove the phase shift according to the path\n",
        "      returns: None\n",
        "      saves complete preprocessed signal in .txt format\n",
        "      in directory ./phase_processing/\n",
        "\n",
        "      :param dir_name: path to the directory containing .mat files \n",
        "      :param people: number of people on which to perform the identification, default 4 \n",
        "  \"\"\"\n",
        "  # Generate the list of the .mat files present in the folder $dir_name \n",
        "  names = {}\n",
        "  all_files = os.listdir(dir_name)\n",
        "  for f in all_files:\n",
        "      if (f.startswith('PI') and f.endswith('.mat')):\n",
        "        names[f[:-4]] = f\n",
        "  names_key = list(names.keys())\n",
        "  names_key.sort()\n",
        "  names_key.remove(names_key[0])\n",
        "  ll = []\n",
        "  for name in names_key:\n",
        "      csi, label = load_mat_file(name, os.path.join(dir_name, names[name]))\n",
        "      ll.append(csi.shape[0])\n",
        "  indexes = np.array(np.flip(np.argsort(ll)))\n",
        "  # for each file\n",
        "  final_lengths = []\n",
        "  for i in indexes[:people]:\n",
        "      name = names_key[i]\n",
        "      # Get the raw .mat file\n",
        "      csi, label = load_mat_file(name, os.path.join(dir_name, names[name]))\n",
        "\n",
        "      csi_buff = np.fft.fftshift(csi, axes=1)\n",
        "\n",
        "      delete_idxs = np.argwhere(np.sum(csi_buff, axis=1) == 0)[:, 0]\n",
        "      csi_buff = np.delete(csi_buff, delete_idxs, axis=0)\n",
        "\n",
        "      delete_idxs = np.asarray([0, 1, 2, 3, 4, 5, 127, 128, 129, 251, 252, 253, 254, 255], dtype=int)\n",
        "\n",
        "      start = 1000\n",
        "      end = int(np.floor(csi_buff.shape[0]/n_tot))\n",
        "      signal_complete = np.zeros((csi_buff.shape[1] - delete_idxs.shape[0], end-start, n_tot), dtype=complex)\n",
        "\n",
        "      for stream in range(0, n_tot):\n",
        "          signal_stream = csi_buff[stream:end*n_tot + 1:n_tot, :][start:end, :]\n",
        "          signal_stream[:, 64:] = - signal_stream[:, 64:]\n",
        "\n",
        "          signal_stream = np.delete(signal_stream, delete_idxs, axis=1)\n",
        "          mean_signal = np.mean(np.abs(signal_stream), axis=1, keepdims=True)\n",
        "          H_m = signal_stream/mean_signal\n",
        "\n",
        "          signal_complete[:, :, stream] = H_m.T\n",
        "      final_lengths.append(signal_complete.shape[1])\n",
        "      name_file = './phase_processing/signal_' + name + '.txt'\n",
        "      with open(name_file, \"wb\") as fp:  # Pickling\n",
        "          pickle.dump(signal_complete, fp)\n",
        "  return min(final_lengths)\n"
      ]
    },
    {
      "cell_type": "markdown",
      "metadata": {
        "id": "6xqvpNRm5nmb"
      },
      "source": [
        "# **START**"
      ]
    },
    {
      "cell_type": "code",
      "execution_count": 6,
      "metadata": {
        "id": "nrSJZduDFSVj"
      },
      "outputs": [],
      "source": [
        "# delete or create phase_processing folder\n",
        "\n",
        "#shutil.rmtree('./phase_processing/')\n",
        "os.mkdir('./phase_processing/')"
      ]
    },
    {
      "cell_type": "code",
      "execution_count": 7,
      "metadata": {
        "colab": {
          "base_uri": "https://localhost:8080/"
        },
        "id": "bfIIkzFRnTPW",
        "outputId": "859eae70-bcbc-4512-fe6b-fe6a4d9b608c"
      },
      "outputs": [
        {
          "output_type": "stream",
          "name": "stdout",
          "text": [
            "46563\n"
          ]
        }
      ],
      "source": [
        "# performs basic preprocessing of the csi_buff\n",
        "# returns: None\n",
        "# saves complete preprocessed signal in .txt format\n",
        "# in directory ./phase_processing/\n",
        "\n",
        "min_length = preprocessing('/content/drive/MyDrive/HDA_project/dataset_identification/PI-1a/', NUM_TOT, NUM_PEOPLE)\n",
        "print(min_length)"
      ]
    },
    {
      "cell_type": "code",
      "source": [
        "#min_length = 46563"
      ],
      "metadata": {
        "id": "CHGaIgrKUn5H"
      },
      "execution_count": 8,
      "outputs": []
    },
    {
      "cell_type": "code",
      "execution_count": null,
      "metadata": {
        "id": "WC3pfqr64zM3"
      },
      "outputs": [],
      "source": [
        "#shutil.rmtree('./dataset_processed/')"
      ]
    },
    {
      "cell_type": "code",
      "execution_count": 10,
      "metadata": {
        "id": "z0zj_5JYw-PX"
      },
      "outputs": [],
      "source": [
        "os.mkdir('./dataset_processed/')\n",
        "os.mkdir('./dataset_processed/train/')\n",
        "os.mkdir('./dataset_processed/validation/')\n",
        "os.mkdir('./dataset_processed/test/')"
      ]
    },
    {
      "cell_type": "code",
      "execution_count": 11,
      "metadata": {
        "id": "QLWrOH8wyL_r"
      },
      "outputs": [],
      "source": [
        "def split_dataset(input_folder, output_folder, data_length):\n",
        "  train_len = int(np.floor(data_length*0.6))\n",
        "  val_len = int(np.floor(data_length*0.2))\n",
        "  for i, f in enumerate(os.listdir(input_folder)):\n",
        "    signal_complete, label, subdir = load_txt_single(input_folder, f)\n",
        "    signal_train = signal_complete[:,:train_len,:]\n",
        "    signal_val = signal_complete[:,train_len:train_len+val_len,:]\n",
        "    signal_test = signal_complete[:,train_len+val_len:data_length,:]\n",
        "    with open(output_folder + 'train/' +str(i)+\".txt\", \"wb\") as fp:\n",
        "      pickle.dump(signal_train, fp)\n",
        "    with open(output_folder + '/validation/' +str(i)+\".txt\", \"wb\") as fp:\n",
        "      pickle.dump(signal_val, fp)\n",
        "    with open(output_folder + '/test/' +str(i)+\".txt\", \"wb\") as fp:\n",
        "      pickle.dump(signal_test, fp)\n",
        "split_dataset('phase_processing/', \"./dataset_processed/\", min_length)\n",
        "shutil.rmtree('./phase_processing/')\n"
      ]
    },
    {
      "cell_type": "code",
      "execution_count": 12,
      "metadata": {
        "id": "ihhq0OYQE-Pu"
      },
      "outputs": [],
      "source": [
        "def create_windows_delimiters(set_length, sample_length, stride_length):\n",
        "    wind_i = []\n",
        "    for ii in range(0, set_length - sample_length, stride_length):\n",
        "        wind = [ii,ii + sample_length]\n",
        "        wind_i.append(wind)\n",
        "    return wind_i\n",
        "\n",
        "\n",
        "def open_file_select_window(f, label, window):\n",
        "\n",
        "    with open(f.numpy() , \"rb\") as fp:\n",
        "        signal = pickle.load(fp)\n",
        "    window_length = window[0] # Number of samples per window\n",
        "    stride_length = window[1] # Number of samples to stride\n",
        "    n_windows = window[2]\n",
        "    starting_window = window[3]\n",
        "    # windows creation\n",
        "    window = np.arange(window_length)\n",
        "    baseline = (np.arange(n_windows) + starting_window)*stride_length\n",
        "    windows = (np.tile(baseline, (window_length,1)).T + window)\n",
        "    return np.abs(np.transpose(signal[:,windows,:], [1,0,2,3])), np.repeat([label], n_windows)\n",
        "\n",
        "def create_dataset_single(input_dir, signal_len, window_length, stride_length, batch_size, shuffle, cache_file,\n",
        "                          prefetch=True, repeat=True):\n",
        "  \n",
        "    n_windows = int(np.floor((signal_len- window_length)/stride_length))+1\n",
        "    max_windows = 300#int(np.floor(psutil.virtual_memory()[1])/(25000*window_length))\n",
        "    number_of_rep = int(np.ceil(n_windows/max_windows))\n",
        "    starting = 0\n",
        "    win_parameters = []\n",
        "    for i in range(number_of_rep):\n",
        "      if i == number_of_rep - 1:\n",
        "        win_parameter = [window_length, stride_length, n_windows-starting, starting]\n",
        "      else:\n",
        "        win_parameter = [window_length, stride_length, max_windows, starting]\n",
        "      win_parameters.append(win_parameter)\n",
        "      starting += max_windows\n",
        "    files = os.listdir(input_dir)\n",
        "    files.sort()\n",
        "    labels = []\n",
        "    temp = []\n",
        "    for f in files:\n",
        "        labels.append(int(f[:-4]))\n",
        "        temp.append(input_dir+f)\n",
        "    files = temp\n",
        "    win_parameters = np.tile(win_parameters, (len(labels), 1))\n",
        "    files = np.repeat(files, number_of_rep)\n",
        "    labels_fordf = np.repeat(labels, number_of_rep)\n",
        "    dataset_csi = tf.data.Dataset.from_tensor_slices((files, labels_fordf, win_parameters))\n",
        "    if shuffle:\n",
        "        dataset_csi = dataset_csi.shuffle(number_of_rep*len(labels))\n",
        "    map_func = lambda files, labels_fordf, win_parameters: (tf.py_function(func=open_file_select_window, inp=[files, labels_fordf, win_parameters], \n",
        "                Tout=[tf.float32, tf.int16]))\n",
        "    dataset_csi = dataset_csi.map(map_func=map_func)\n",
        "    dataset_csi = dataset_csi.unbatch()\n",
        "    dataset_csi = dataset_csi.cache(cache_file)\n",
        "    if shuffle:\n",
        "        dataset_csi = dataset_csi.shuffle(n_windows)\n",
        "    if repeat:\n",
        "        dataset_csi = dataset_csi.repeat()\n",
        "    dataset_csi = dataset_csi.batch(batch_size=batch_size)\n",
        "    if prefetch:\n",
        "        dataset_csi = dataset_csi.prefetch(buffer_size=1)\n",
        "    return dataset_csi, np.repeat(labels, n_windows), n_windows*len(labels)\n",
        "\n",
        "def create_dataset(input_dir, data_length, batch_size, window_length, stride_length):\n",
        "  \"\"\"\n",
        "      divides dataset in train, validation and test\n",
        "      returns: None\n",
        "      saves divided datasets in .txt format \n",
        "      in directory ./phase_processing/dataset_txt\n",
        "      \n",
        "      :param dir_name: path to the directory containing .txt files (preprocessing output)\n",
        "  \"\"\"\n",
        "  \n",
        "  train_len = int(np.floor(data_length*0.6))\n",
        "  val_len = int(np.floor(data_length*0.2))\n",
        "  test_len = data_length - train_len - val_len\n",
        "\n",
        "  name_base = 'csi_net'\n",
        "  name_cache_train = name_base + '_cache_train'\n",
        "  \n",
        "  dataset_csi_train, label_train, num_samples_train = create_dataset_single(input_dir + \"train/\", train_len,\n",
        "                        window_length, stride_length, batch_size, shuffle=True, cache_file=name_cache_train)\n",
        "\n",
        "  name_cache_val = name_base + '_cache_val'\n",
        "  dataset_csi_val, label_val, num_samples_val = create_dataset_single(input_dir + \"validation/\", val_len,\n",
        "                        window_length, stride_length, batch_size, shuffle=False, cache_file=name_cache_val)\n",
        "\n",
        "  name_cache_test = name_base + '_cache_test'\n",
        "  dataset_csi_test,label_test, num_samples_test = create_dataset_single(input_dir + \"test/\", test_len,\n",
        "                        window_length, stride_length, batch_size, shuffle=False, cache_file=name_cache_test)\n",
        "  \n",
        "  info = {'num_samples_train': num_samples_train, 'num_samples_val': num_samples_val, \n",
        "          'num_samples_test': num_samples_test, 'labels_train_selected_expanded': label_train, \n",
        "          'labels_val_selected_expanded': label_val, 'labels_test_selected_expanded': label_test,\n",
        "          'labels_considered':np.unique(label_train)}\n",
        "  return dataset_csi_train , dataset_csi_val, dataset_csi_test, info\n",
        "\n",
        "dataset_csi_train , dataset_csi_val, dataset_csi_test,info = create_dataset(\"./dataset_processed/\", min_length, \n",
        "                                                                            BATCH_SIZE, FEATURE_LENGTH, STRIDE_LEN)"
      ]
    },
    {
      "cell_type": "markdown",
      "metadata": {
        "id": "IwIOFqOVkTZ_"
      },
      "source": [
        "![image.png](data:image/png;base64,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)"
      ]
    },
    {
      "cell_type": "code",
      "execution_count": null,
      "metadata": {
        "id": "MZuEdkqYxgAZ"
      },
      "outputs": [],
      "source": [
        "## tentativo molto approsimativo di riprodurre la rete in A Lightweight Deep Learning Algorithm for WiFi-Based Identity Recognition\n",
        "\n",
        "#potrebbe essere \n",
        "def baloon_layer(input, inflating_channel, n_features):\n",
        "  feature_maps = tf.keras.layers.Conv2D(filters=n_features, kernel_size=3, padding= 'same', activation='relu')(input)\n",
        "  low_level_feature = tf.keras.layers.Conv2D(filters=2*n_features, kernel_size=1, activation='relu')(inflating_channel)\n",
        "  fused_feature = tf.concat([low_level_feature,feature_maps], 3)\n",
        "  x = tf.keras.layers.Conv2D(filters=fused_feature.shape[3], kernel_size=1)(fused_feature)\n",
        "  x = tf.keras.layers.BatchNormalization()(x)\n",
        "  x = tf.keras.layers.ReLU()(x)\n",
        "  return x\n",
        "\n",
        "def final_layer(input, units):\n",
        "  x = tf.keras.layers.Dense(units)(input)\n",
        "  x = tf.keras.layers.GlobalMaxPool2D()(x)\n",
        "  x = tf.keras.layers.Softmax()(x)\n",
        "  return x\n",
        "\n",
        "def network(input_shape):\n",
        "  x_input = tf.keras.Input(input_shape)\n",
        "  x = baloon_layer(x_input, x_input, 4)\n",
        "  x = baloon_layer(x_input, x, 8)\n",
        "  x = baloon_layer(x_input, x, 16)\n",
        "  x = baloon_layer(x_input, x, 32)\n",
        "  x = final_layer(x, 5)\n",
        "  model = tf.keras.Model(inputs = x_input, outputs = x, name='csi_network')\n",
        "  return model"
      ]
    },
    {
      "cell_type": "code",
      "execution_count": null,
      "metadata": {
        "colab": {
          "base_uri": "https://localhost:8080/"
        },
        "id": "RPLLv1HPLkCa",
        "outputId": "065f5161-7378-45f2-a1cb-4bc9fcb41796"
      },
      "outputs": [
        {
          "output_type": "stream",
          "name": "stdout",
          "text": [
            "Model: \"csi_network\"\n",
            "__________________________________________________________________________________________________\n",
            " Layer (type)                   Output Shape         Param #     Connected to                     \n",
            "==================================================================================================\n",
            " input_1 (InputLayer)           [(None, 242, 400, 4  0           []                               \n",
            "                                )]                                                                \n",
            "                                                                                                  \n",
            " conv2d_1 (Conv2D)              (None, 242, 400, 8)  40          ['input_1[0][0]']                \n",
            "                                                                                                  \n",
            " conv2d (Conv2D)                (None, 242, 400, 4)  148         ['input_1[0][0]']                \n",
            "                                                                                                  \n",
            " tf.concat (TFOpLambda)         (None, 242, 400, 12  0           ['conv2d_1[0][0]',               \n",
            "                                )                                 'conv2d[0][0]']                 \n",
            "                                                                                                  \n",
            " conv2d_2 (Conv2D)              (None, 242, 400, 12  156         ['tf.concat[0][0]']              \n",
            "                                )                                                                 \n",
            "                                                                                                  \n",
            " batch_normalization (BatchNorm  (None, 242, 400, 12  48         ['conv2d_2[0][0]']               \n",
            " alization)                     )                                                                 \n",
            "                                                                                                  \n",
            " re_lu (ReLU)                   (None, 242, 400, 12  0           ['batch_normalization[0][0]']    \n",
            "                                )                                                                 \n",
            "                                                                                                  \n",
            " conv2d_4 (Conv2D)              (None, 242, 400, 16  208         ['re_lu[0][0]']                  \n",
            "                                )                                                                 \n",
            "                                                                                                  \n",
            " conv2d_3 (Conv2D)              (None, 242, 400, 8)  296         ['input_1[0][0]']                \n",
            "                                                                                                  \n",
            " tf.concat_1 (TFOpLambda)       (None, 242, 400, 24  0           ['conv2d_4[0][0]',               \n",
            "                                )                                 'conv2d_3[0][0]']               \n",
            "                                                                                                  \n",
            " conv2d_5 (Conv2D)              (None, 242, 400, 24  600         ['tf.concat_1[0][0]']            \n",
            "                                )                                                                 \n",
            "                                                                                                  \n",
            " batch_normalization_1 (BatchNo  (None, 242, 400, 24  96         ['conv2d_5[0][0]']               \n",
            " rmalization)                   )                                                                 \n",
            "                                                                                                  \n",
            " re_lu_1 (ReLU)                 (None, 242, 400, 24  0           ['batch_normalization_1[0][0]']  \n",
            "                                )                                                                 \n",
            "                                                                                                  \n",
            " conv2d_7 (Conv2D)              (None, 242, 400, 32  800         ['re_lu_1[0][0]']                \n",
            "                                )                                                                 \n",
            "                                                                                                  \n",
            " conv2d_6 (Conv2D)              (None, 242, 400, 16  592         ['input_1[0][0]']                \n",
            "                                )                                                                 \n",
            "                                                                                                  \n",
            " tf.concat_2 (TFOpLambda)       (None, 242, 400, 48  0           ['conv2d_7[0][0]',               \n",
            "                                )                                 'conv2d_6[0][0]']               \n",
            "                                                                                                  \n",
            " conv2d_8 (Conv2D)              (None, 242, 400, 48  2352        ['tf.concat_2[0][0]']            \n",
            "                                )                                                                 \n",
            "                                                                                                  \n",
            " batch_normalization_2 (BatchNo  (None, 242, 400, 48  192        ['conv2d_8[0][0]']               \n",
            " rmalization)                   )                                                                 \n",
            "                                                                                                  \n",
            " re_lu_2 (ReLU)                 (None, 242, 400, 48  0           ['batch_normalization_2[0][0]']  \n",
            "                                )                                                                 \n",
            "                                                                                                  \n",
            " conv2d_10 (Conv2D)             (None, 242, 400, 64  3136        ['re_lu_2[0][0]']                \n",
            "                                )                                                                 \n",
            "                                                                                                  \n",
            " conv2d_9 (Conv2D)              (None, 242, 400, 32  1184        ['input_1[0][0]']                \n",
            "                                )                                                                 \n",
            "                                                                                                  \n",
            " tf.concat_3 (TFOpLambda)       (None, 242, 400, 96  0           ['conv2d_10[0][0]',              \n",
            "                                )                                 'conv2d_9[0][0]']               \n",
            "                                                                                                  \n",
            " conv2d_11 (Conv2D)             (None, 242, 400, 96  9312        ['tf.concat_3[0][0]']            \n",
            "                                )                                                                 \n",
            "                                                                                                  \n",
            " batch_normalization_3 (BatchNo  (None, 242, 400, 96  384        ['conv2d_11[0][0]']              \n",
            " rmalization)                   )                                                                 \n",
            "                                                                                                  \n",
            " re_lu_3 (ReLU)                 (None, 242, 400, 96  0           ['batch_normalization_3[0][0]']  \n",
            "                                )                                                                 \n",
            "                                                                                                  \n",
            " dense (Dense)                  (None, 242, 400, 5)  485         ['re_lu_3[0][0]']                \n",
            "                                                                                                  \n",
            " global_max_pooling2d (GlobalMa  (None, 5)           0           ['dense[0][0]']                  \n",
            " xPooling2D)                                                                                      \n",
            "                                                                                                  \n",
            " softmax (Softmax)              (None, 5)            0           ['global_max_pooling2d[0][0]']   \n",
            "                                                                                                  \n",
            "==================================================================================================\n",
            "Total params: 20,029\n",
            "Trainable params: 19,669\n",
            "Non-trainable params: 360\n",
            "__________________________________________________________________________________________________\n"
          ]
        }
      ],
      "source": [
        "model = network(INPUT_NETWORK)\n",
        "a = model.summary()"
      ]
    },
    {
      "cell_type": "code",
      "source": [
        "parameters = {\"feature length\": FEATURE_LENGTH,\n",
        "              \"sample length\": SAMPLE_LENGTH,\n",
        "              \"num tot\": NUM_TOT,\n",
        "              \"batch size\": BATCH_SIZE,\n",
        "              \"num people\": NUM_PEOPLE,\n",
        "              \"stride len\": STRIDE_LEN,\n",
        "              \"learning rate\": learning_rate,\n",
        "              \"patience\":patience\n",
        "              }\n",
        "with open(output_dir_attempt + \"parameters.pkl\", \"wb\") as output_file:\n",
        "    pickle.dump(parameters, output_file)\n",
        "with open(output_dir_attempt + \"info.pkl\", \"wb\") as output_file:\n",
        "    pickle.dump(parameters, output_file)"
      ],
      "metadata": {
        "id": "nhjZlBxHyzsi"
      },
      "execution_count": null,
      "outputs": []
    },
    {
      "cell_type": "code",
      "execution_count": null,
      "metadata": {
        "colab": {
          "base_uri": "https://localhost:8080/"
        },
        "id": "K8rpN1fspPqL",
        "outputId": "133936e6-1041-4f3f-bcce-22e9a41995e3"
      },
      "outputs": [
        {
          "output_type": "stream",
          "name": "stdout",
          "text": [
            "Epoch 1/50\n",
            "861/861 [==============================] - 373s 403ms/step - loss: 0.5969 - sparse_categorical_accuracy: 0.7939 - val_loss: 0.9647 - val_sparse_categorical_accuracy: 0.6570\n",
            "Epoch 2/50\n",
            "861/861 [==============================] - 347s 403ms/step - loss: 0.5852 - sparse_categorical_accuracy: 0.7969 - val_loss: 0.9690 - val_sparse_categorical_accuracy: 0.6806\n",
            "Epoch 3/50\n",
            "861/861 [==============================] - 347s 402ms/step - loss: 0.5786 - sparse_categorical_accuracy: 0.7983 - val_loss: 0.9462 - val_sparse_categorical_accuracy: 0.6673\n",
            "Epoch 4/50\n",
            "861/861 [==============================] - 347s 404ms/step - loss: 0.5674 - sparse_categorical_accuracy: 0.8021 - val_loss: 0.9733 - val_sparse_categorical_accuracy: 0.6741\n",
            "Epoch 5/50\n",
            "861/861 [==============================] - 351s 407ms/step - loss: 0.5538 - sparse_categorical_accuracy: 0.8078 - val_loss: 0.9507 - val_sparse_categorical_accuracy: 0.6682\n",
            "Epoch 6/50\n",
            "861/861 [==============================] - 351s 407ms/step - loss: 0.5412 - sparse_categorical_accuracy: 0.8119 - val_loss: 0.9808 - val_sparse_categorical_accuracy: 0.6346\n",
            "Epoch 7/50\n",
            "861/861 [==============================] - 348s 404ms/step - loss: 0.5321 - sparse_categorical_accuracy: 0.8150 - val_loss: 1.0156 - val_sparse_categorical_accuracy: 0.6530\n",
            "Epoch 8/50\n",
            "861/861 [==============================] - 353s 410ms/step - loss: 0.5254 - sparse_categorical_accuracy: 0.8174 - val_loss: 1.0285 - val_sparse_categorical_accuracy: 0.5925\n"
          ]
        }
      ],
      "source": [
        "#with tf.device('/GPU:0'):\n",
        "\n",
        "optimizer = tf.keras.optimizers.Adam(learning_rate=learning_rate)\n",
        "loss = tf.keras.losses.SparseCategoricalCrossentropy(from_logits=False)\n",
        "model.compile(optimizer=optimizer, loss=loss, metrics=[tf.keras.metrics.SparseCategoricalAccuracy()])\n",
        "num_samples_train = info['num_samples_train']\n",
        "num_samples_val = info['num_samples_val']\n",
        "num_samples_test = info['num_samples_test']\n",
        "lab, count = np.unique(info['labels_train_selected_expanded'], return_counts=True)\n",
        "lab_val, count_val = np.unique(info['labels_val_selected_expanded'], return_counts=True)\n",
        "lab_test, count_test = np.unique(info['labels_test_selected_expanded'], return_counts=True)\n",
        "train_steps_per_epoch = int(np.ceil(num_samples_train/BATCH_SIZE))\n",
        "val_steps_per_epoch = int(np.ceil(num_samples_val/BATCH_SIZE))\n",
        "test_steps_per_epoch = int(np.ceil(num_samples_test/BATCH_SIZE))\n",
        "\n",
        "# def decay_schedule(epoch, lr):\n",
        "#     if (epoch % 3 == 0) and (epoch != 0):\n",
        "#         lr = lr * 0.1\n",
        "#     return lr\n",
        "\n",
        "# callback_lr = tf.keras.callbacks.LearningRateScheduler(decay_schedule, verbose=1)\n",
        "\n",
        "callback_stop = tf.keras.callbacks.EarlyStopping(monitor='val_loss', patience=patience)\n",
        "\n",
        "name_model = output_dir_attempt + 'network.h5'\n",
        "callback_save = tf.keras.callbacks.ModelCheckpoint(name_model, save_freq='epoch', save_best_only=False,\n",
        "                                                    monitor='val_sparse_categorical_accuracy')\n",
        "\n",
        "results = model.fit(dataset_csi_train, steps_per_epoch=train_steps_per_epoch, \n",
        "                    epochs=50, validation_data=dataset_csi_val, \n",
        "                    validation_steps=val_steps_per_epoch, callbacks=[callback_save, callback_stop])"
      ]
    },
    {
      "cell_type": "code",
      "execution_count": null,
      "metadata": {
        "id": "8grHjtwHG3xW",
        "colab": {
          "base_uri": "https://localhost:8080/",
          "height": 623
        },
        "outputId": "079624b7-3f96-4dd3-f021-1ee6c24c77f8"
      },
      "outputs": [
        {
          "output_type": "display_data",
          "data": {
            "text/plain": [
              "<Figure size 360x360 with 1 Axes>"
            ],
            "image/png": "[encoded data removed]"
          },
          "metadata": {
            "needs_background": "light"
          }
        },
        {
          "output_type": "display_data",
          "data": {
            "text/plain": [
              "<Figure size 360x360 with 1 Axes>"
            ],
            "image/png": "[encoded data removed]"
          },
          "metadata": {
            "needs_background": "light"
          }
        }
      ],
      "source": [
        "fig, ax = plt.subplots(1,1,figsize=(5,5))\n",
        "loss = ax.plot(np.arange(len(results.history['loss'])),  results.history['loss'])\n",
        "val_loss = ax.plot(np.arange(len(results.history['val_loss'])),  results.history['val_loss'])\n",
        "loss[0].set_label(\"Train loss\")\n",
        "val_loss[0].set_label(\"Validation loss\")\n",
        "ax.legend()\n",
        "plt.show()\n",
        "fig, ax = plt.subplots(1,1,figsize=(5,5))\n",
        "loss = ax.plot(np.arange(len(results.history['sparse_categorical_accuracy'])),  results.history['sparse_categorical_accuracy'])\n",
        "val_loss = ax.plot(np.arange(len(results.history['val_sparse_categorical_accuracy'])),  results.history['val_sparse_categorical_accuracy'])\n",
        "loss[0].set_label(\"Train accuracy\")\n",
        "val_loss[0].set_label(\"Validation accuracy\")\n",
        "ax.legend()\n",
        "plt.show()"
      ]
    },
    {
      "cell_type": "code",
      "execution_count": null,
      "metadata": {
        "id": "VfZUalkl11G1",
        "colab": {
          "base_uri": "https://localhost:8080/"
        },
        "outputId": "124ddf7c-f997-48ba-a6a0-efe881ea0c3f"
      },
      "outputs": [
        {
          "output_type": "stream",
          "name": "stdout",
          "text": [
            "279/279 [==============================] - 30s 105ms/step\n",
            "279/279 [==============================] - 103s 347ms/step\n"
          ]
        }
      ],
      "source": [
        "from sklearn.metrics import confusion_matrix\n",
        "from sklearn.metrics import precision_recall_fscore_support, accuracy_score\n",
        "\n",
        "# val\n",
        "val_labels_true = np.array(info['labels_val_selected_expanded'])\n",
        "val_prediction_list = model.predict(dataset_csi_val, steps=val_steps_per_epoch)[:val_labels_true.shape[0]]\n",
        "\n",
        "val_labels_pred = np.argmax(val_prediction_list, axis=1)\n",
        "conf_matrix_val = confusion_matrix(val_labels_true, val_labels_pred)\n",
        "\n",
        "# test\n",
        "test_labels_true = np.array(info['labels_test_selected_expanded'])\n",
        "\n",
        "test_prediction_list = model.predict(dataset_csi_test, steps=test_steps_per_epoch)[:test_labels_true.shape[0]]\n",
        "\n",
        "test_labels_pred = np.argmax(test_prediction_list, axis=1)\n",
        "\n",
        "conf_matrix = confusion_matrix(test_labels_true, test_labels_pred)\n",
        "precision, recall, fscore, _ = precision_recall_fscore_support(test_labels_true,\n",
        "                                                                test_labels_pred,\n",
        "                                                                labels=info['labels_considered'])\n",
        "accuracy = accuracy_score(test_labels_true, test_labels_pred)"
      ]
    },
    {
      "cell_type": "code",
      "source": [
        "output = {\"history\":results,\n",
        "          \"confusion matrix\": conf_matrix,\n",
        "          \"confusion validation matrix\": conf_matrix_val,\n",
        "          \"precision\":precision,\n",
        "          \"recall\":recall,\n",
        "          \"fscore\":fscore,\n",
        "          \"accuracy\":accuracy\n",
        "          }\n",
        "\n",
        "with open(output_dir_attempt + \"results.pkl\", \"wb\") as output_file:\n",
        "    pickle.dump(output, output_file)"
      ],
      "metadata": {
        "id": "0I3kd5Cct6f4",
        "colab": {
          "base_uri": "https://localhost:8080/"
        },
        "outputId": "923d7872-957a-42d6-8ba8-4f1fefbdfec0"
      },
      "execution_count": null,
      "outputs": [
        {
          "output_type": "stream",
          "name": "stderr",
          "text": [
            "WARNING:absl:Found untraced functions such as _jit_compiled_convolution_op, _jit_compiled_convolution_op, _jit_compiled_convolution_op, _jit_compiled_convolution_op, _jit_compiled_convolution_op while saving (showing 5 of 12). These functions will not be directly callable after loading.\n"
          ]
        }
      ]
    },
    {
      "cell_type": "code",
      "execution_count": null,
      "metadata": {
        "id": "DnoYuUQBelYN",
        "colab": {
          "base_uri": "https://localhost:8080/"
        },
        "outputId": "26a0a7a5-8857-4f4d-e006-f189281f1270"
      },
      "outputs": [
        {
          "output_type": "stream",
          "name": "stdout",
          "text": [
            "Validation confusion matrix:\n",
            "[[808  40  13   5  26]\n",
            " [100 670   0  40  82]\n",
            " [243   0 410 113 126]\n",
            " [  0   0  20 787  85]\n",
            " [ 53 365 134  44 296]]\n",
            "Test confusion matrix:\n",
            "[[616 135 140   0   1]\n",
            " [ 70 621  35   5 161]\n",
            " [128   0 698  18  48]\n",
            " [ 47  36 107 474 228]\n",
            " [180 249 295  29 139]]\n",
            "precision: [0.59173871 0.59654179 0.54745098 0.90114068 0.24090121]\n",
            "recall: [0.69058296 0.69618834 0.78251121 0.53139013 0.1558296 ]\n",
            "fscore: [0.63735127 0.64252457 0.64420858 0.66854725 0.18924438]\n",
            "accuracy: 0.5713004484304933\n"
          ]
        }
      ],
      "source": [
        "print(\"Validation confusion matrix:\")\n",
        "print(conf_matrix_val)\n",
        "print(\"Test confusion matrix:\")\n",
        "print(conf_matrix)\n",
        "print(\"precision:\", precision)\n",
        "print(\"recall:\", recall)\n",
        "print(\"fscore:\", fscore)\n",
        "print(\"accuracy:\", accuracy)"
      ]
    },
    {
      "cell_type": "code",
      "source": [
        "def read_output(path):\n",
        "  if (not path.endswith('/')):\n",
        "    path = path + '/'\n",
        "  with open(path + 'parameters.pkl', \"rb\") as fp:\n",
        "    parameters = pickle.load(fp)\n",
        "  print(parameters)\n",
        "  model = tf.keras.models.load_model(path + 'network.h5')\n",
        "  print(model.summary())\n",
        "  if not(os.path.exists(path+'results.pkl')):\n",
        "    with open(path + 'info', \"rb\") as fp:\n",
        "      info = pickle.load(fp)\n",
        "    val_labels_true = np.array(info['labels_val_selected_expanded'])\n",
        "    val_prediction_list = model.predict(dataset_csi_val, steps=val_steps_per_epoch)[:val_labels_true.shape[0]]\n",
        "    val_labels_pred = np.argmax(val_prediction_list, axis=1)\n",
        "    conf_matrix_val = confusion_matrix(val_labels_true, val_labels_pred)\n",
        "    test_labels_true = np.array(info['labels_test_selected_expanded'])\n",
        "    test_prediction_list = model.predict(dataset_csi_test, steps=test_steps_per_epoch)[:test_labels_true.shape[0]]\n",
        "    test_labels_pred = np.argmax(test_prediction_list, axis=1)\n",
        "    conf_matrix = confusion_matrix(test_labels_true, test_labels_pred)\n",
        "    precision, recall, fscore, _ = precision_recall_fscore_support(test_labels_true,test_labels_pred,labels=info['labels_considered'])\n",
        "    accuracy = accuracy_score(test_labels_true, test_labels_pred)\n",
        "    output = {\"history\":results,\n",
        "          \"confusion matrix\": conf_matrix,\n",
        "          \"confusion validation matrix\": conf_matrix_val,\n",
        "          \"precision\":precision,\n",
        "          \"recall\":recall,\n",
        "          \"fscore\":fscore,\n",
        "          \"accuracy\":accuracy\n",
        "          }\n",
        "    with open(path + \"results.pkl\", \"wb\") as output_file:\n",
        "      pickle.dump(output, output_file)\n",
        "\n",
        "  with open(path + \"results.pkl\", \"rb\") as fp:\n",
        "    output = pickle.load(fp)\n",
        "  print(\"Validation confusion matrix:\")\n",
        "  print(output['confusion validation matrix'])\n",
        "  print(\"Test confusion matrix:\")\n",
        "  print(output['confusion matrix'])\n",
        "  print(\"precision:\", output['precision'])\n",
        "  print(\"recall:\", output['recall'])\n",
        "  print(\"fscore:\", output['fscore'])\n",
        "  print(\"accuracy:\", output['accuracy'])\n",
        "\n",
        "read_output('/content/drive/MyDrive/HDA_project/output/attempt_010/')"
      ],
      "metadata": {
        "id": "L79qw-4YYdhi",
        "colab": {
          "base_uri": "https://localhost:8080/"
        },
        "outputId": "0e9dad13-d30a-438a-f1f3-15bdaf8860fa"
      },
      "execution_count": null,
      "outputs": [
        {
          "output_type": "stream",
          "name": "stdout",
          "text": [
            "{'feature length': 400, 'sample length': 242, 'num tot': 4, 'batch size': 16, 'num people': 5, 'stride len': 10, 'learning rate': 2e-05, 'patience': 5}\n",
            "Model: \"csi_network\"\n",
            "__________________________________________________________________________________________________\n",
            " Layer (type)                   Output Shape         Param #     Connected to                     \n",
            "==================================================================================================\n",
            " input_1 (InputLayer)           [(None, 242, 400, 4  0           []                               \n",
            "                                )]                                                                \n",
            "                                                                                                  \n",
            " conv2d_1 (Conv2D)              (None, 242, 400, 8)  40          ['input_1[0][0]']                \n",
            "                                                                                                  \n",
            " conv2d (Conv2D)                (None, 242, 400, 4)  148         ['input_1[0][0]']                \n",
            "                                                                                                  \n",
            " tf.concat (TFOpLambda)         (None, 242, 400, 12  0           ['conv2d_1[0][0]',               \n",
            "                                )                                 'conv2d[0][0]']                 \n",
            "                                                                                                  \n",
            " conv2d_2 (Conv2D)              (None, 242, 400, 12  156         ['tf.concat[0][0]']              \n",
            "                                )                                                                 \n",
            "                                                                                                  \n",
            " batch_normalization (BatchNorm  (None, 242, 400, 12  48         ['conv2d_2[0][0]']               \n",
            " alization)                     )                                                                 \n",
            "                                                                                                  \n",
            " re_lu (ReLU)                   (None, 242, 400, 12  0           ['batch_normalization[0][0]']    \n",
            "                                )                                                                 \n",
            "                                                                                                  \n",
            " conv2d_4 (Conv2D)              (None, 242, 400, 16  208         ['re_lu[0][0]']                  \n",
            "                                )                                                                 \n",
            "                                                                                                  \n",
            " conv2d_3 (Conv2D)              (None, 242, 400, 8)  296         ['input_1[0][0]']                \n",
            "                                                                                                  \n",
            " tf.concat_1 (TFOpLambda)       (None, 242, 400, 24  0           ['conv2d_4[0][0]',               \n",
            "                                )                                 'conv2d_3[0][0]']               \n",
            "                                                                                                  \n",
            " conv2d_5 (Conv2D)              (None, 242, 400, 24  600         ['tf.concat_1[0][0]']            \n",
            "                                )                                                                 \n",
            "                                                                                                  \n",
            " batch_normalization_1 (BatchNo  (None, 242, 400, 24  96         ['conv2d_5[0][0]']               \n",
            " rmalization)                   )                                                                 \n",
            "                                                                                                  \n",
            " re_lu_1 (ReLU)                 (None, 242, 400, 24  0           ['batch_normalization_1[0][0]']  \n",
            "                                )                                                                 \n",
            "                                                                                                  \n",
            " conv2d_7 (Conv2D)              (None, 242, 400, 32  800         ['re_lu_1[0][0]']                \n",
            "                                )                                                                 \n",
            "                                                                                                  \n",
            " conv2d_6 (Conv2D)              (None, 242, 400, 16  592         ['input_1[0][0]']                \n",
            "                                )                                                                 \n",
            "                                                                                                  \n",
            " tf.concat_2 (TFOpLambda)       (None, 242, 400, 48  0           ['conv2d_7[0][0]',               \n",
            "                                )                                 'conv2d_6[0][0]']               \n",
            "                                                                                                  \n",
            " conv2d_8 (Conv2D)              (None, 242, 400, 48  2352        ['tf.concat_2[0][0]']            \n",
            "                                )                                                                 \n",
            "                                                                                                  \n",
            " batch_normalization_2 (BatchNo  (None, 242, 400, 48  192        ['conv2d_8[0][0]']               \n",
            " rmalization)                   )                                                                 \n",
            "                                                                                                  \n",
            " re_lu_2 (ReLU)                 (None, 242, 400, 48  0           ['batch_normalization_2[0][0]']  \n",
            "                                )                                                                 \n",
            "                                                                                                  \n",
            " conv2d_10 (Conv2D)             (None, 242, 400, 64  3136        ['re_lu_2[0][0]']                \n",
            "                                )                                                                 \n",
            "                                                                                                  \n",
            " conv2d_9 (Conv2D)              (None, 242, 400, 32  1184        ['input_1[0][0]']                \n",
            "                                )                                                                 \n",
            "                                                                                                  \n",
            " tf.concat_3 (TFOpLambda)       (None, 242, 400, 96  0           ['conv2d_10[0][0]',              \n",
            "                                )                                 'conv2d_9[0][0]']               \n",
            "                                                                                                  \n",
            " conv2d_11 (Conv2D)             (None, 242, 400, 96  9312        ['tf.concat_3[0][0]']            \n",
            "                                )                                                                 \n",
            "                                                                                                  \n",
            " batch_normalization_3 (BatchNo  (None, 242, 400, 96  384        ['conv2d_11[0][0]']              \n",
            " rmalization)                   )                                                                 \n",
            "                                                                                                  \n",
            " re_lu_3 (ReLU)                 (None, 242, 400, 96  0           ['batch_normalization_3[0][0]']  \n",
            "                                )                                                                 \n",
            "                                                                                                  \n",
            " dense (Dense)                  (None, 242, 400, 5)  485         ['re_lu_3[0][0]']                \n",
            "                                                                                                  \n",
            " global_max_pooling2d (GlobalMa  (None, 5)           0           ['dense[0][0]']                  \n",
            " xPooling2D)                                                                                      \n",
            "                                                                                                  \n",
            " softmax (Softmax)              (None, 5)            0           ['global_max_pooling2d[0][0]']   \n",
            "                                                                                                  \n",
            "==================================================================================================\n",
            "Total params: 20,029\n",
            "Trainable params: 19,669\n",
            "Non-trainable params: 360\n",
            "__________________________________________________________________________________________________\n",
            "None\n",
            "Validation confusion matrix:\n",
            "[[808  40  13   5  26]\n",
            " [100 670   0  40  82]\n",
            " [243   0 410 113 126]\n",
            " [  0   0  20 787  85]\n",
            " [ 53 365 134  44 296]]\n",
            "Test confusion matrix:\n",
            "[[616 135 140   0   1]\n",
            " [ 70 621  35   5 161]\n",
            " [128   0 698  18  48]\n",
            " [ 47  36 107 474 228]\n",
            " [180 249 295  29 139]]\n",
            "precision: [0.59173871 0.59654179 0.54745098 0.90114068 0.24090121]\n",
            "recall: [0.69058296 0.69618834 0.78251121 0.53139013 0.1558296 ]\n",
            "fscore: [0.63735127 0.64252457 0.64420858 0.66854725 0.18924438]\n",
            "accuracy: 0.5713004484304933\n"
          ]
        }
      ]
    }
  ],
  "metadata": {
    "accelerator": "GPU",
    "colab": {
      "collapsed_sections": [
        "7m4w2KWjrtsm"
      ],
      "provenance": [],
      "include_colab_link": true
    },
    "gpuClass": "standard",
    "kernelspec": {
      "display_name": "Python 3",
      "name": "python3"
    },
    "language_info": {
      "name": "python"
    }
  },
  "nbformat": 4,
  "nbformat_minor": 0
}